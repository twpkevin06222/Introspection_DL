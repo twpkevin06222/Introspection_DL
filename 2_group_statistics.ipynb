{
 "cells": [
  {
   "cell_type": "code",
   "execution_count": 5,
   "metadata": {},
   "outputs": [],
   "source": [
    "import numpy as np\n",
    "import matplotlib.pyplot as plt\n",
    "import pickle\n",
    "import os\n",
    "import string\n",
    "# os.environ[\"CUDA_VISIBLE_DEVICES\"] = \"0\""
   ]
  },
  {
   "cell_type": "code",
   "execution_count": 6,
   "metadata": {},
   "outputs": [],
   "source": [
    "file_dir = \"/data/asr_introspection/spectrogram_input/\"\n",
    "input_groupmappings = os.listdir(file_dir)\n",
    "input_groupmappings = [s for s in input_groupmappings if \"group\" in s]"
   ]
  },
  {
   "cell_type": "code",
   "execution_count": 7,
   "metadata": {
    "scrolled": false
   },
   "outputs": [],
   "source": [
    "graphemes_list = list()\n",
    "phonemes_list = list()\n",
    "phonemes_full_list = list()\n",
    "\n",
    "# create a set of all occuring phonemes (both with and without stress symbols)\n",
    "for f in input_groupmappings:\n",
    "    mapping = np.load(file_dir + f)\n",
    "    graphemes_list = np.unique(np.concatenate((graphemes_list,mapping[:,1])))\n",
    "    phonemes_list = np.unique(np.concatenate((phonemes_list,mapping[:,2])))\n",
    "    phonemes_full_list = np.unique(np.concatenate((phonemes_full_list,mapping[:,3])))\n",
    "graphemes_list = list(np.sort(graphemes_list))\n",
    "phonemes_list = list(np.sort(phonemes_list))\n",
    "phonemes_full_list = list(np.sort(phonemes_full_list))\n",
    "with open('/data/asr_introspection/vocabularies.pkl', 'wb') as f:\n",
    "    pickle.dump([graphemes_list,phonemes_list,phonemes_full_list], f, pickle.HIGHEST_PROTOCOL)"
   ]
  },
  {
   "cell_type": "code",
   "execution_count": 8,
   "metadata": {},
   "outputs": [
    {
     "name": "stdout",
     "output_type": "stream",
     "text": [
      "finished 500\n",
      "finished 1000\n",
      "finished 1500\n",
      "finished 2000\n",
      "finished 2500\n",
      "finished 3000\n",
      "finished 3500\n",
      "finished 4000\n",
      "finished 4500\n",
      "finished 5000\n"
     ]
    },
    {
     "data": {
      "image/png": "[encoded data removed]",
      "text/plain": [
       "<Figure size 864x360 with 2 Axes>"
      ]
     },
     "metadata": {},
     "output_type": "display_data"
    }
   ],
   "source": [
    "# count co-occurence of graphemes & phonemes\n",
    "\n",
    "count_matrix = np.zeros((len(graphemes_list),len(phonemes_list)))\n",
    "\n",
    "for f_id,f in enumerate(input_groupmappings):\n",
    "    mapping = np.load(file_dir + f)\n",
    "    for _,g,p,_ in mapping:\n",
    "        if(p != \" \"):\n",
    "            count_matrix[graphemes_list.index(g),phonemes_list.index(p)] += 1\n",
    "    if((f_id+1) % 500==0):\n",
    "        print(\"finished \" + str(f_id+1))\n",
    "\n",
    "        \n",
    "# plot co-occurences normalized to letter count\n",
    "heatmap_matrix = count_matrix[:,1:]\n",
    "for i in range(len(graphemes_list)):\n",
    "    heatmap_matrix[i,:] = heatmap_matrix[i,:]/np.sum(heatmap_matrix[i,:])\n",
    "\n",
    "fig, ax = plt.subplots(figsize=(12,5))\n",
    "heatmap = ax.pcolor(heatmap_matrix, cmap=plt.cm.Reds)\n",
    "heatmap.set_clim((0,1))\n",
    "fig.colorbar(heatmap)\n",
    "\n",
    "# put the major ticks at the middle of each cell\n",
    "ax.set_xticks(np.arange(len(phonemes_list)-1) + 0.5, minor=False)\n",
    "ax.set_yticks(np.arange(len(graphemes_list)) + 0.5, minor=False)\n",
    "\n",
    "ax.set_xticks(np.arange(len(phonemes_list)-1), minor=True)\n",
    "ax.set_yticks(np.arange(len(graphemes_list)-1), minor=True)\n",
    "\n",
    "ax.grid(True,which='minor')\n",
    "\n",
    "# want a more natural, table-like display\n",
    "ax.invert_yaxis()\n",
    "ax.xaxis.tick_top()\n",
    "\n",
    "ax.set_xticklabels(phonemes_list[1:], minor=False)\n",
    "ax.set_yticklabels(graphemes_list, minor=False)\n",
    "\n",
    "plt.show()"
   ]
  },
  {
   "cell_type": "code",
   "execution_count": null,
   "metadata": {},
   "outputs": [],
   "source": []
  }
 ],
 "metadata": {
  "kernelspec": {
   "display_name": "Python 3",
   "language": "python",
   "name": "python3"
  },
  "language_info": {
   "codemirror_mode": {
    "name": "ipython",
    "version": 3
   },
   "file_extension": ".py",
   "mimetype": "text/x-python",
   "name": "python",
   "nbconvert_exporter": "python",
   "pygments_lexer": "ipython3",
   "version": "3.5.2"
  }
 },
 "nbformat": 4,
 "nbformat_minor": 2
}
