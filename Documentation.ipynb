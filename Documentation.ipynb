{
 "cells": [
  {
   "cell_type": "code",
   "execution_count": 1,
   "metadata": {},
   "outputs": [],
   "source": [
    "import numpy as np\n",
    "import tensorflow as tf\n",
    "import FeatureVis\n",
    "import utils\n",
    "import matplotlib.pyplot as plt \n",
    "%matplotlib inline"
   ]
  },
  {
   "cell_type": "markdown",
   "metadata": {},
   "source": [
    "# Dataset "
   ]
  },
  {
   "cell_type": "markdown",
   "metadata": {},
   "source": [
    "Load 'MNIST' dataset and preprocess data"
   ]
  },
  {
   "cell_type": "code",
   "execution_count": 2,
   "metadata": {},
   "outputs": [],
   "source": [
    "#hyperparameter\n",
    "BATCH_SIZE = 32\n",
    "REPEAT = 1000\n",
    "MAX_STEP = 2000\n",
    "lr = 1e-4"
   ]
  },
  {
   "cell_type": "code",
   "execution_count": 3,
   "metadata": {},
   "outputs": [],
   "source": [
    "#call dataset\n",
    "mnist = tf.keras.datasets.mnist\n",
    "#load dataset\n",
    "(x_train, y_train), (x_test, y_test) = mnist.load_data()\n",
    "#normalize dataset and cast to float32\n",
    "x_train, x_test = x_train.astype('float32') / 255.0, x_test.astype('float32') / 255.0\n",
    "\n",
    "#add channel dimension \n",
    "x_train = x_train[..., tf.newaxis]\n",
    "x_test = x_test[..., tf.newaxis]\n",
    "\n",
    "#training set\n",
    "train_ds = tf.data.Dataset.from_tensor_slices(\n",
    "    (x_train, y_train)).shuffle(10000).repeat(REPEAT).batch(BATCH_SIZE )\n",
    "\n",
    "#test set \n",
    "test_ds = tf.data.Dataset.from_tensor_slices((x_test, y_test)).batch(BATCH_SIZE)"
   ]
  },
  {
   "cell_type": "markdown",
   "metadata": {},
   "source": [
    "# Model "
   ]
  },
  {
   "cell_type": "code",
   "execution_count": 4,
   "metadata": {},
   "outputs": [],
   "source": [
    "from tensorflow.keras import Model, Sequential \n",
    "from tensorflow.keras.layers import Dense, Flatten, Conv2D, BatchNormalization, UpSampling2D\n",
    "from tensorflow.keras.layers import Conv2DTranspose, Reshape, ReLU, LeakyReLU, MaxPooling2D, InputLayer, Input\n",
    "\n",
    "model = Sequential([\n",
    "    InputLayer((28, 28, 1)),\n",
    "    Conv2D(16, 5, padding ='same', activation = 'relu', name='layer_conv1'),\n",
    "    Conv2D(36, 5, padding ='same', activation= 'relu', name='layer_conv2'),\n",
    "    Flatten(),\n",
    "    Dense(128, activation = 'relu', name='layer_fc1'),\n",
    "    Dense(10, activation = 'softmax',name='layer_fc_out'),\n",
    "])\n",
    "\n",
    "model.build((None, 28, 28, 1))"
   ]
  },
  {
   "cell_type": "markdown",
   "metadata": {},
   "source": [
    "## Train Model"
   ]
  },
  {
   "cell_type": "code",
   "execution_count": 5,
   "metadata": {
    "scrolled": true
   },
   "outputs": [
    {
     "name": "stdout",
     "output_type": "stream",
     "text": [
      "Step: 0, Test Loss: 2.281848907470703, Test Acc: 12.5\n",
      "Step: 100, Test Loss: 0.8589367866516113, Test Acc: 75.99009704589844\n",
      "Step: 200, Test Loss: 0.614784300327301, Test Acc: 82.58706665039062\n",
      "Step: 300, Test Loss: 0.519914984703064, Test Acc: 85.20556640625\n",
      "Step: 400, Test Loss: 0.4524301588535309, Test Acc: 87.10255432128906\n",
      "Step: 500, Test Loss: 0.4115581214427948, Test Acc: 88.24226379394531\n",
      "Step: 600, Test Loss: 0.37585359811782837, Test Acc: 89.1690902709961\n",
      "Step: 700, Test Loss: 0.3490813076496124, Test Acc: 89.93402099609375\n",
      "Step: 800, Test Loss: 0.32644760608673096, Test Acc: 90.57817840576172\n",
      "Step: 900, Test Loss: 0.3069719970226288, Test Acc: 91.13484954833984\n",
      "Step: 1000, Test Loss: 0.28956180810928345, Test Acc: 91.60839080810547\n",
      "Step: 1100, Test Loss: 0.27624690532684326, Test Acc: 92.00443267822266\n",
      "Step: 1200, Test Loss: 0.2633330821990967, Test Acc: 92.38655853271484\n",
      "Step: 1300, Test Loss: 0.2524617314338684, Test Acc: 92.7219467163086\n",
      "Step: 1400, Test Loss: 0.24311430752277374, Test Acc: 92.99161529541016\n",
      "Step: 1500, Test Loss: 0.23356114327907562, Test Acc: 93.24825286865234\n",
      "Step: 1600, Test Loss: 0.22548924386501312, Test Acc: 93.46697235107422\n",
      "Step: 1700, Test Loss: 0.21851202845573425, Test Acc: 93.68753051757812\n",
      "Step: 1800, Test Loss: 0.21186554431915283, Test Acc: 93.88013458251953\n",
      "Step: 1900, Test Loss: 0.20593143999576569, Test Acc: 94.04918670654297\n",
      "Step: 2000, Test Loss: 0.19962050020694733, Test Acc: 94.2403793334961\n",
      "End of Step\n"
     ]
    }
   ],
   "source": [
    "loss_fn = tf.keras.losses.SparseCategoricalCrossentropy()\n",
    "opt = tf.keras.optimizers.Adam(lr)\n",
    "\n",
    "train_loss = tf.keras.metrics.Mean(name='train_loss')\n",
    "train_accuracy = tf.keras.metrics.SparseCategoricalAccuracy(name='train_accuracy')\n",
    "\n",
    "test_loss = tf.keras.metrics.Mean(name='test_loss')\n",
    "test_accuracy = tf.keras.metrics.SparseCategoricalAccuracy(name='test_accuracy')\n",
    "\n",
    "\n",
    "\n",
    "@tf.function\n",
    "def train_fn(model, imgs, lbls):\n",
    "    with tf.GradientTape() as tape:\n",
    "        logits = model(imgs)\n",
    "        loss = loss_fn(lbls, logits)\n",
    "    grad = tape.gradient(loss, model.trainable_variables)\n",
    "    opt.apply_gradients(zip(grad, model.trainable_variables))\n",
    "    \n",
    "    train_loss(loss)\n",
    "    train_accuracy(lbls, logits)\n",
    "\n",
    "\n",
    "@tf.function\n",
    "def test_fn(model, imgs, lbls):\n",
    "    t_logits = model(imgs)\n",
    "    t_loss = loss_object(lbls, t_logits)\n",
    "\n",
    "    test_loss(t_loss)\n",
    "    test_accuracy(lbls, t_logits)\n",
    "    \n",
    "for steps,(imgs, lbls) in enumerate(train_ds):\n",
    "    if steps> MAX_STEP:\n",
    "        print(\"End of Step\")\n",
    "        break\n",
    "        \n",
    "    train_fn(model, imgs, lbls)\n",
    "    template = 'Step: {}, Test Loss: {}, Test Acc: {}'\n",
    "    if not steps%100:\n",
    "        print(template.format(steps, train_loss.result(), train_accuracy.result()*100 ))"
   ]
  },
  {
   "cell_type": "markdown",
   "metadata": {},
   "source": [
    "# Use Case"
   ]
  },
  {
   "cell_type": "markdown",
   "metadata": {},
   "source": [
    "Two ways to retrive layer name"
   ]
  },
  {
   "cell_type": "markdown",
   "metadata": {},
   "source": [
    "## Use get_layer_name() from utils\n",
    "\n",
    "This function returns a list of layer names "
   ]
  },
  {
   "cell_type": "code",
   "execution_count": 6,
   "metadata": {
    "scrolled": true
   },
   "outputs": [
    {
     "name": "stdout",
     "output_type": "stream",
     "text": [
      "['layer_conv1', 'layer_conv2', 'flatten', 'layer_fc1', 'layer_fc_out']\n"
     ]
    }
   ],
   "source": [
    "layer_names = utils.get_layer_name(model)\n",
    "print(layer_names)"
   ]
  },
  {
   "cell_type": "markdown",
   "metadata": {},
   "source": [
    "## Use layers_dict() from Activations class in FeatureVis\n",
    "\n",
    "This function returns dictionary with key: Layer Names, value: Layer Information "
   ]
  },
  {
   "cell_type": "code",
   "execution_count": 7,
   "metadata": {
    "scrolled": true
   },
   "outputs": [
    {
     "name": "stdout",
     "output_type": "stream",
     "text": [
      "{'flatten': <tensorflow.python.keras.layers.core.Flatten object at 0x7facf83b4400>, 'layer_conv1': <tensorflow.python.keras.layers.convolutional.Conv2D object at 0x7fad18c17400>, 'layer_fc_out': <tensorflow.python.keras.layers.core.Dense object at 0x7facf83b4860>, 'layer_conv2': <tensorflow.python.keras.layers.convolutional.Conv2D object at 0x7facf839bf28>, 'layer_fc1': <tensorflow.python.keras.layers.core.Dense object at 0x7facf83b4518>}\n"
     ]
    }
   ],
   "source": [
    "acti = FeatureVis.Activations()\n",
    "layers_name = acti.layers_dict(model)\n",
    "print(layers_name)"
   ]
  },
  {
   "cell_type": "markdown",
   "metadata": {},
   "source": [
    "# Visualizing weights"
   ]
  },
  {
   "cell_type": "markdown",
   "metadata": {},
   "source": [
    "## Retrieve weights with layer_get_weights()"
   ]
  },
  {
   "cell_type": "code",
   "execution_count": 8,
   "metadata": {
    "scrolled": false
   },
   "outputs": [
    {
     "name": "stdout",
     "output_type": "stream",
     "text": [
      "layer_conv1 (5, 5, 1, 16)\n",
      "layer_conv2 (5, 5, 16, 36)\n"
     ]
    }
   ],
   "source": [
    "l1_name, l1 = utils.layer_get_weights(model, 'conv')"
   ]
  },
  {
   "cell_type": "markdown",
   "metadata": {},
   "source": [
    "## Visualize filters with vis_filters() from utils"
   ]
  },
  {
   "cell_type": "code",
   "execution_count": 10,
   "metadata": {
    "scrolled": true
   },
   "outputs": [
    {
     "name": "stdout",
     "output_type": "stream",
     "text": [
      "Layer name: layer_conv1\n"
     ]
    },
    {
     "data": {
      "image/png": "[encoded data removed]",
      "text/plain": [
       "<Figure size 360x360 with 9 Axes>"
      ]
     },
     "metadata": {},
     "output_type": "display_data"
    },
    {
     "name": "stdout",
     "output_type": "stream",
     "text": [
      "Layer name: layer_conv2\n"
     ]
    },
    {
     "data": {
      "image/png": "[encoded data removed]",
      "text/plain": [
       "<Figure size 360x360 with 9 Axes>"
      ]
     },
     "metadata": {},
     "output_type": "display_data"
    }
   ],
   "source": [
    "for i in range(len(l1_name)):\n",
    "    utils.vis_filters(l1_name[i], l1[i], n_filters = 9, n_channel = 2)"
   ]
  },
  {
   "cell_type": "markdown",
   "metadata": {},
   "source": [
    "# Visualizing Feature Maps "
   ]
  },
  {
   "cell_type": "markdown",
   "metadata": {},
   "source": [
    "Use an input image for visualizing feature maps"
   ]
  },
  {
   "cell_type": "code",
   "execution_count": 13,
   "metadata": {
    "scrolled": false
   },
   "outputs": [
    {
     "name": "stdout",
     "output_type": "stream",
     "text": [
      "Original shape: (28, 28, 1)\n",
      "Expanded dim shape:  (1, 28, 28, 1)\n"
     ]
    },
    {
     "data": {
      "image/png": "[encoded data removed]",
      "text/plain": [
       "<Figure size 432x288 with 1 Axes>"
      ]
     },
     "metadata": {
      "needs_background": "light"
     },
     "output_type": "display_data"
    }
   ],
   "source": [
    "for steps,(imgs,lbls) in enumerate(train_ds):\n",
    "    img_test = imgs[0]\n",
    "    break\n",
    "    \n",
    "print(\"Original shape:\", img_test.shape)\n",
    "#convert from 3D to 4D (sample, row_size, col_size, channel)\n",
    "img_test = tf.expand_dims(img_test, 0) \n",
    "print(\"Expanded dim shape: \", img_test.shape)\n",
    "\n",
    "plt.imshow(np.squeeze(img_test), cmap = 'gray')\n",
    "plt.show()"
   ]
  },
  {
   "cell_type": "code",
   "execution_count": 15,
   "metadata": {
    "scrolled": false
   },
   "outputs": [
    {
     "name": "stdout",
     "output_type": "stream",
     "text": [
      "Shape of feature maps: (1, 28, 28, 16)\n",
      "Number of feature maps in layer:  16\n"
     ]
    },
    {
     "data": {
      "image/png": "[encoded data removed]",
      "text/plain": [
       "<Figure size 432x288 with 16 Axes>"
      ]
     },
     "metadata": {},
     "output_type": "display_data"
    }
   ],
   "source": [
    "acti = FeatureVis.Activations()\n",
    "#retrieve feature maps \n",
    "feature_maps = acti.feature_maps(model,'layer_conv1', img_test)\n",
    "#plot feature maps in grid\n",
    "fm_plot = acti.plot_feature_maps(feature_maps, 4, 4)"
   ]
  },
  {
   "cell_type": "markdown",
   "metadata": {},
   "source": [
    "# Activation Maximization"
   ]
  },
  {
   "cell_type": "code",
   "execution_count": 16,
   "metadata": {},
   "outputs": [
    {
     "data": {
      "image/png": "[encoded data removed]",
      "text/plain": [
       "<Figure size 432x288 with 1 Axes>"
      ]
     },
     "metadata": {
      "needs_background": "light"
     },
     "output_type": "display_data"
    }
   ],
   "source": [
    "#create random image for activation maximization \n",
    "random_image = np.random.random((1, 28, 28, 1))\n",
    "\n",
    "plt.imshow(np.squeeze(random_image), cmap = 'gray')\n",
    "plt.show()"
   ]
  },
  {
   "cell_type": "code",
   "execution_count": 17,
   "metadata": {
    "scrolled": true
   },
   "outputs": [
    {
     "name": "stdout",
     "output_type": "stream",
     "text": [
      "Step: 0, Loss: 0.1453474760055542, Learning rate: 1.7260199785232544\n",
      "\n",
      "Step: 10, Loss: 2.896674394607544, Learning rate: 1.7260199785232544\n",
      "\n",
      "Step: 20, Loss: 5.678755760192871, Learning rate: 1.7260199785232544\n",
      "\n",
      "Step: 30, Loss: 8.465335845947266, Learning rate: 1.7260199785232544\n",
      "\n",
      "Step: 40, Loss: 11.252511024475098, Learning rate: 1.7260199785232544\n",
      "\n",
      "Step: 50, Loss: 14.039875030517578, Learning rate: 1.7260199785232544\n",
      "\n",
      "Step: 60, Loss: 16.827367782592773, Learning rate: 1.7260199785232544\n",
      "\n",
      "Step: 70, Loss: 19.614683151245117, Learning rate: 1.7260199785232544\n",
      "\n",
      "Step: 80, Loss: 22.401226043701172, Learning rate: 1.7260199785232544\n",
      "\n",
      "Step: 90, Loss: 25.18697738647461, Learning rate: 1.7260199785232544\n",
      "\n"
     ]
    }
   ],
   "source": [
    "acti = FeatureVis.Activations()\n",
    "#optimize activation\n",
    "acti_max_img = acti.acti_max(layer_name = 'layer_conv1',inp_img = random_image, \n",
    "                             model = model, n_iter = 100, feature_index = 1)"
   ]
  },
  {
   "cell_type": "code",
   "execution_count": 18,
   "metadata": {},
   "outputs": [
    {
     "data": {
      "text/plain": [
       "<matplotlib.image.AxesImage at 0x7facac45fb70>"
      ]
     },
     "execution_count": 18,
     "metadata": {},
     "output_type": "execute_result"
    },
    {
     "data": {
      "image/png": "[encoded data removed]",
      "text/plain": [
       "<Figure size 432x288 with 1 Axes>"
      ]
     },
     "metadata": {
      "needs_background": "light"
     },
     "output_type": "display_data"
    }
   ],
   "source": [
    "plt.imshow(np.squeeze(acti_max_img), cmap = 'gray')"
   ]
  }
 ],
 "metadata": {
  "kernelspec": {
   "display_name": "Python 3",
   "language": "python",
   "name": "python3"
  },
  "language_info": {
   "codemirror_mode": {
    "name": "ipython",
    "version": 3
   },
   "file_extension": ".py",
   "mimetype": "text/x-python",
   "name": "python",
   "nbconvert_exporter": "python",
   "pygments_lexer": "ipython3",
   "version": "3.5.2"
  }
 },
 "nbformat": 4,
 "nbformat_minor": 2
}
