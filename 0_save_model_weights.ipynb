{
 "cells": [
  {
   "cell_type": "markdown",
   "metadata": {},
   "source": [
    "This script runs the w2l code and saves all kernel weights and batchnorm parameters.  \n",
    "The resutling .pkl files are used for running the model with tf layers"
   ]
  },
  {
   "cell_type": "code",
   "execution_count": 1,
   "metadata": {},
   "outputs": [],
   "source": [
    "import sys\n",
    "import librosa\n",
    "import string\n",
    "import pickle\n",
    "import os\n",
    "os.environ[\"CUDA_VISIBLE_DEVICES\"] = \"0\"\n",
    "sys.path.append(\"/project/asr_introspection/jens_w2l/\")\n",
    "from w2l.estimator_main import run_asr\n",
    "\n",
    "data_config = \"/data/johannsm/introspection_data/mel_new\"\n",
    "model_config = '/data/johannsm/introspection_data/w2l_mel_extralayer'\n",
    "model_dir = \"/data/johannsm/introspection_data/model/\"\n",
    "\n",
    "# preds = run_asr(\"predict\",data_config, model_config, model_dir)\n",
    "\n",
    "# container = [librosa.load('../dudodudo.wav',sr=16000)[0]]  # could also initialize this with some dummy, e.g. np.zeros(1000, dtype=np.float32)\n",
    "# preds = run_asr(\"container\", data_config, model_config, model_dir, container=container)\n",
    "\n",
    "# calling next() the first time will load the model etc.\n",
    "\n",
    "# go through all files\n",
    "# write snippets for each letter in the corresponding directory\n"
   ]
  },
  {
   "cell_type": "code",
   "execution_count": 2,
   "metadata": {},
   "outputs": [
    {
     "name": "stdout",
     "output_type": "stream",
     "text": [
      "INFO:tensorflow:Using config: {'_evaluation_master': '', '_global_id_in_cluster': 0, '_tf_random_seed': None, '_save_checkpoints_steps': None, '_num_worker_replicas': 1, '_model_dir': '/data/johannsm/introspection_data/model/', '_num_ps_replicas': 0, '_keep_checkpoint_max': 5, '_task_id': 0, '_save_checkpoints_secs': 600, '_cluster_spec': <tensorflow.python.training.server_lib.ClusterSpec object at 0x7f86e41089b0>, '_is_chief': True, '_master': '', '_save_summary_steps': None, '_log_step_count_steps': 100, '_keep_checkpoint_every_n_hours': 1, '_service': None, '_session_config': None, '_train_distribute': None, '_task_type': 'worker'}\n"
     ]
    }
   ],
   "source": [
    "estimator = run_asr(\"return\",data_config, model_config, model_dir)\n",
    "\n",
    "# estimator.get_variable_names()\n",
    "\n",
    "names = ['model/layer0/batch_norm/beta',\n",
    "         'model/layer0/batch_norm/gamma',\n",
    "         'model/layer0/batch_norm/moving_mean',\n",
    "         'model/layer0/batch_norm/moving_variance',\n",
    "         'model/layer1/batch_norm/beta',\n",
    "         'model/layer1/batch_norm/gamma',\n",
    "         'model/layer1/batch_norm/moving_mean',\n",
    "         'model/layer1/batch_norm/moving_variance',\n",
    "         'model/layer2/batch_norm/beta',\n",
    "         'model/layer2/batch_norm/gamma',\n",
    "         'model/layer2/batch_norm/moving_mean',\n",
    "         'model/layer2/batch_norm/moving_variance',\n",
    "         'model/layer3/batch_norm/beta',\n",
    "         'model/layer3/batch_norm/gamma',\n",
    "         'model/layer3/batch_norm/moving_mean',\n",
    "         'model/layer3/batch_norm/moving_variance',\n",
    "         'model/layer4/batch_norm/beta',\n",
    "         'model/layer4/batch_norm/gamma',\n",
    "         'model/layer4/batch_norm/moving_mean',\n",
    "         'model/layer4/batch_norm/moving_variance',\n",
    "         'model/layer5/batch_norm/beta',\n",
    "         'model/layer5/batch_norm/gamma',\n",
    "         'model/layer5/batch_norm/moving_mean',\n",
    "         'model/layer5/batch_norm/moving_variance',\n",
    "         'model/layer6/batch_norm/beta',\n",
    "         'model/layer6/batch_norm/gamma',\n",
    "         'model/layer6/batch_norm/moving_mean',\n",
    "         'model/layer6/batch_norm/moving_variance',\n",
    "         'model/layer7/batch_norm/beta',\n",
    "         'model/layer7/batch_norm/gamma',\n",
    "         'model/layer7/batch_norm/moving_mean',\n",
    "         'model/layer7/batch_norm/moving_variance',\n",
    "         'model/layer8/batch_norm/beta',\n",
    "         'model/layer8/batch_norm/gamma',\n",
    "         'model/layer8/batch_norm/moving_mean',\n",
    "         'model/layer8/batch_norm/moving_variance',\n",
    "         'model/layer9/batch_norm/beta',\n",
    "         'model/layer9/batch_norm/gamma',\n",
    "         'model/layer9/batch_norm/moving_mean',\n",
    "         'model/layer9/batch_norm/moving_variance',\n",
    "         'model/layer10/batch_norm/beta',\n",
    "         'model/layer10/batch_norm/gamma',\n",
    "         'model/layer10/batch_norm/moving_mean',\n",
    "         'model/layer10/batch_norm/moving_variance']\n",
    "bn_params = []\n",
    "for n in names:\n",
    "    bn_params.append(estimator.get_variable_value(n))\n",
    "with open('/data/asr_introspection/w2l_bn_params.pkl', 'wb') as f:\n",
    "    pickle.dump(bn_params, f, pickle.HIGHEST_PROTOCOL)\n",
    "    \n",
    "# activations in activations\n",
    "# many conv layer kernel weights in estimator\n",
    "names = ['model/layer0/conv/kernel',\n",
    "         'model/layer1/conv/kernel',\n",
    "         'model/layer2/conv/kernel',\n",
    "         'model/layer3/conv/kernel',\n",
    "         'model/layer4/conv/kernel',\n",
    "         'model/layer5/conv/kernel',\n",
    "         'model/layer6/conv/kernel',\n",
    "         'model/layer7/conv/kernel',\n",
    "         'model/layer8/conv/kernel',\n",
    "         'model/layer9/conv/kernel',\n",
    "         'model/layer10/conv/kernel',\n",
    "         'model/logits/conv/bias',\n",
    "         'model/logits/conv/kernel']\n",
    "weights = []\n",
    "for n in names:\n",
    "    weights.append(estimator.get_variable_value(n))\n",
    "with open('/data/asr_introspection/w2l_weights.pkl', 'wb') as f:\n",
    "    pickle.dump(weights, f, pickle.HIGHEST_PROTOCOL)"
   ]
  },
  {
   "cell_type": "code",
   "execution_count": null,
   "metadata": {},
   "outputs": [],
   "source": []
  }
 ],
 "metadata": {
  "kernelspec": {
   "display_name": "Python 3",
   "language": "python",
   "name": "python3"
  },
  "language_info": {
   "codemirror_mode": {
    "name": "ipython",
    "version": 3
   },
   "file_extension": ".py",
   "mimetype": "text/x-python",
   "name": "python",
   "nbconvert_exporter": "python",
   "pygments_lexer": "ipython3",
   "version": "3.5.2"
  }
 },
 "nbformat": 4,
 "nbformat_minor": 2
}
